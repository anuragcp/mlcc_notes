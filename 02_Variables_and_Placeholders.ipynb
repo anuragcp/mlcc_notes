{
  "nbformat": 4,
  "nbformat_minor": 0,
  "metadata": {
    "colab": {
      "name": "02-Variables-and-Placeholders.ipynb",
      "version": "0.3.2",
      "provenance": []
    },
    "kernelspec": {
      "display_name": "Python 3",
      "language": "python",
      "name": "python3"
    }
  },
  "cells": [
    {
      "metadata": {
        "id": "pa9k5GKOi5y4",
        "colab_type": "text"
      },
      "cell_type": "markdown",
      "source": [
        "# Variables and Placeholders"
      ]
    },
    {
      "metadata": {
        "id": "xIXTkMKci5y-",
        "colab_type": "code",
        "colab": {}
      },
      "cell_type": "code",
      "source": [
        "import tensorflow as tf"
      ],
      "execution_count": 0,
      "outputs": []
    },
    {
      "metadata": {
        "id": "u_c1ETh1i5zM",
        "colab_type": "code",
        "colab": {}
      },
      "cell_type": "code",
      "source": [
        "sess = tf.InteractiveSession()"
      ],
      "execution_count": 0,
      "outputs": []
    },
    {
      "metadata": {
        "id": "emfSfNjZi5zV",
        "colab_type": "text"
      },
      "cell_type": "markdown",
      "source": [
        "## Variables"
      ]
    },
    {
      "metadata": {
        "id": "n2UQ297-i5zY",
        "colab_type": "code",
        "colab": {}
      },
      "cell_type": "code",
      "source": [
        "my_tensor = tf.random_uniform((4,4),0,1)"
      ],
      "execution_count": 0,
      "outputs": []
    },
    {
      "metadata": {
        "id": "EPmViQ9qi5zj",
        "colab_type": "code",
        "colab": {}
      },
      "cell_type": "code",
      "source": [
        "my_var = tf.Variable(initial_value=my_tensor)"
      ],
      "execution_count": 0,
      "outputs": []
    },
    {
      "metadata": {
        "id": "uQ3g6nJii5zp",
        "colab_type": "code",
        "colab": {},
        "outputId": "43bba554-3804-45bc-e460-1a6665374ab8"
      },
      "cell_type": "code",
      "source": [
        "print(my_var)"
      ],
      "execution_count": 0,
      "outputs": [
        {
          "output_type": "stream",
          "text": [
            "<tf.Variable 'Variable:0' shape=(4, 4) dtype=float32_ref>\n"
          ],
          "name": "stdout"
        }
      ]
    },
    {
      "metadata": {
        "id": "ypZbUAgxi5z0",
        "colab_type": "text"
      },
      "cell_type": "markdown",
      "source": [
        "#### Note! You must initialize all global variables!"
      ]
    },
    {
      "metadata": {
        "id": "lsDpUOvPi5z3",
        "colab_type": "code",
        "colab": {}
      },
      "cell_type": "code",
      "source": [
        "# This line is really important, it is easy to forget!\n",
        "init = tf.global_variables_initializer()"
      ],
      "execution_count": 0,
      "outputs": []
    },
    {
      "metadata": {
        "id": "5_GovCJQi50D",
        "colab_type": "code",
        "colab": {}
      },
      "cell_type": "code",
      "source": [
        "init.run()"
      ],
      "execution_count": 0,
      "outputs": []
    },
    {
      "metadata": {
        "id": "3-pKVen_i50N",
        "colab_type": "code",
        "colab": {},
        "outputId": "567b5493-4e57-40a4-a8f8-16a70bc97f27"
      },
      "cell_type": "code",
      "source": [
        "my_var.eval()"
      ],
      "execution_count": 0,
      "outputs": [
        {
          "output_type": "execute_result",
          "data": {
            "text/plain": [
              "array([[ 0.18764639,  0.76903498,  0.88519645,  0.89911747],\n",
              "       [ 0.18354201,  0.63433743,  0.42470503,  0.27359927],\n",
              "       [ 0.45305872,  0.65249109,  0.74132109,  0.19152677],\n",
              "       [ 0.60576665,  0.71895587,  0.69150388,  0.33336747]], dtype=float32)"
            ]
          },
          "metadata": {
            "tags": []
          },
          "execution_count": 8
        }
      ]
    },
    {
      "metadata": {
        "id": "CqxXfeIOi50i",
        "colab_type": "code",
        "colab": {},
        "outputId": "a5dba37b-7061-4115-ff5c-9babe247bb83"
      },
      "cell_type": "code",
      "source": [
        "sess.run(my_var)"
      ],
      "execution_count": 0,
      "outputs": [
        {
          "output_type": "execute_result",
          "data": {
            "text/plain": [
              "array([[ 0.18764639,  0.76903498,  0.88519645,  0.89911747],\n",
              "       [ 0.18354201,  0.63433743,  0.42470503,  0.27359927],\n",
              "       [ 0.45305872,  0.65249109,  0.74132109,  0.19152677],\n",
              "       [ 0.60576665,  0.71895587,  0.69150388,  0.33336747]], dtype=float32)"
            ]
          },
          "metadata": {
            "tags": []
          },
          "execution_count": 9
        }
      ]
    },
    {
      "metadata": {
        "id": "wqWNIeuli50s",
        "colab_type": "text"
      },
      "cell_type": "markdown",
      "source": [
        "## Placeholders"
      ]
    },
    {
      "metadata": {
        "id": "aZ9aTbk7i50w",
        "colab_type": "code",
        "colab": {}
      },
      "cell_type": "code",
      "source": [
        "ph = tf.placeholder(tf.float64)"
      ],
      "execution_count": 0,
      "outputs": []
    },
    {
      "metadata": {
        "id": "eF7h-x4_i502",
        "colab_type": "code",
        "colab": {}
      },
      "cell_type": "code",
      "source": [
        "ph = tf.placeholder(tf.int32)"
      ],
      "execution_count": 0,
      "outputs": []
    },
    {
      "metadata": {
        "id": "fNOORln_i51D",
        "colab_type": "code",
        "colab": {}
      },
      "cell_type": "code",
      "source": [
        "# For shape its common to use (None,# of Features) \n",
        "# because None can be filled by number of samples in data\n",
        "ph = tf.placeholder(tf.float32,shape=(None,5))"
      ],
      "execution_count": 0,
      "outputs": []
    },
    {
      "metadata": {
        "id": "ELB4ZTjsi51L",
        "colab_type": "text"
      },
      "cell_type": "markdown",
      "source": [
        "Coming up next is where we'll put this all together!"
      ]
    }
  ]
}